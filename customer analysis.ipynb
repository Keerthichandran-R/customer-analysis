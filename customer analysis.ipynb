{
 "cells": [
  {
   "cell_type": "code",
   "execution_count": 2,
   "id": "dabbcb9a-187f-4933-9ec9-72091698b086",
   "metadata": {},
   "outputs": [
    {
     "name": "stdout",
     "output_type": "stream",
     "text": [
      "Sentiment Breakdown:\n",
      "Sentiment\n",
      "Positive    9\n",
      "Negative    1\n",
      "Name: count, dtype: int64\n"
     ]
    }
   ],
   "source": [
    "import pandas as pd\n",
    "from textblob import TextBlob\n",
    "\n",
    "# Load customer feedback data\n",
    "df = pd.read_csv(\"customer_feedback.csv\")\n",
    "\n",
    "# Function to analyze sentiment\n",
    "def get_sentiment(text):\n",
    "    analysis = TextBlob(str(text))\n",
    "    if analysis.sentiment.polarity > 0:\n",
    "        return 'Positive'\n",
    "    elif analysis.sentiment.polarity < 0:\n",
    "        return 'Negative'\n",
    "    else:\n",
    "        return 'Neutral'\n",
    "\n",
    "# Apply sentiment analysis\n",
    "df['Sentiment'] = df['Feedback'].apply(get_sentiment)\n",
    "\n",
    "# Print sentiment counts\n",
    "print(\"Sentiment Breakdown:\")\n",
    "print(df['Sentiment'].value_counts())\n",
    "\n",
    "# Save new CSV with sentiment column\n",
    "df.to_csv(\"customer_feedback_with_sentiment.csv\", index=False)\n"
   ]
  },
  {
   "cell_type": "code",
   "execution_count": null,
   "id": "a5f8afd1-607a-4b8d-9531-d2d503b5d5d4",
   "metadata": {},
   "outputs": [],
   "source": []
  }
 ],
 "metadata": {
  "kernelspec": {
   "display_name": "Python 3 (ipykernel)",
   "language": "python",
   "name": "python3"
  },
  "language_info": {
   "codemirror_mode": {
    "name": "ipython",
    "version": 3
   },
   "file_extension": ".py",
   "mimetype": "text/x-python",
   "name": "python",
   "nbconvert_exporter": "python",
   "pygments_lexer": "ipython3",
   "version": "3.11.7"
  }
 },
 "nbformat": 4,
 "nbformat_minor": 5
}
